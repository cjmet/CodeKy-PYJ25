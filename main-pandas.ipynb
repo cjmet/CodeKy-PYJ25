{
 "cells": [
  {
   "cell_type": "markdown",
   "id": "cc8d941c",
   "metadata": {},
   "source": [
    "# Code-Ky - AI Jan 2025 - Week 8 Python Project"
   ]
  },
  {
   "cell_type": "code",
   "execution_count": null,
   "id": "8433c9a9",
   "metadata": {},
   "outputs": [
    {
     "name": "stdout",
     "output_type": "stream",
     "text": [
      " transaction_id       date  customer_id  amount   type                                            description\n",
      "              1 2020-10-26          926 6478.39 credit                     Expect series shake art again our.\n",
      "              2 2020-01-08          466 1255.95 credit                   Each left similar likely coach take.\n",
      "              3 2019-09-02          110 7969.68  debit Direction wife job pull determine leader move college.\n",
      "              4 2020-12-02          142 2927.41 credit                        Agree reveal buy black already.\n",
      "              5 2020-12-02          944 4661.88  debit           Child relationship show college whom speech.\n"
     ]
    }
   ],
   "source": [
    "# open and read financial_transactions.csv into a pandas data structure\n",
    "\n",
    "# and print the first 5 rows of the data frame\n",
    "import pandas as pd\n",
    "# Read the CSV file into a DataFrame\n",
    "df = pd.read_csv('financial_transactions.csv')\n",
    "# Display the first 5 rows of the DataFrame \n",
    "# print everything on one row regardless of the length\n",
    "# Set display options to show all columns\n",
    "pd.set_option('display.show_dimensions', False)  # Hide dimensions\n",
    "pd.set_option('display.expand_frame_repr', False)  # Prevent line breaks\n",
    "pd.set_option('display.max_columns', None)  # Show all columns\n",
    "# do not print the dataframe index\n",
    "print(df.head().to_string(index=False))\n",
    "\n",
    "# I'll come back to this version later, I'm pretty sure the exercise wants generic python instead."
   ]
  }
 ],
 "metadata": {
  "kernelspec": {
   "display_name": "Python 3",
   "language": "python",
   "name": "python3"
  },
  "language_info": {
   "codemirror_mode": {
    "name": "ipython",
    "version": 3
   },
   "file_extension": ".py",
   "mimetype": "text/x-python",
   "name": "python",
   "nbconvert_exporter": "python",
   "pygments_lexer": "ipython3",
   "version": "3.13.1"
  }
 },
 "nbformat": 4,
 "nbformat_minor": 5
}
